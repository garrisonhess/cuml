{
 "cells": [
  {
   "cell_type": "code",
   "execution_count": 69,
   "id": "1251c6ab-a81b-42d2-bb27-73c40d5ab85a",
   "metadata": {},
   "outputs": [],
   "source": [
    "import cudf\n",
    "import cupy\n",
    "import matplotlib.pyplot as plt\n",
    "from cuml.cluster import KMeans as cuKMeans\n",
    "from cuml.datasets import make_blobs\n",
    "from sklearn.cluster import KMeans as skKMeans\n",
    "from sklearn.metrics import adjusted_rand_score\n",
    "\n",
    "%matplotlib inline\n",
    "\n",
    "import os\n",
    "import pandas as pd\n",
    "from cuml.decomposition import PCA\n",
    "import numpy as np\n",
    "import sys\n",
    "import traceback\n",
    "import time\n",
    "# traceback.print_stack(file=sys.stdout)\n",
    "mnist_path = \"/home/gh/kernelpca/data/mnist_784.csv\""
   ]
  },
  {
   "cell_type": "code",
   "execution_count": 92,
   "id": "fd5fb2da-ebec-49c9-bf8c-9880ca3fe500",
   "metadata": {},
   "outputs": [
    {
     "name": "stdout",
     "output_type": "stream",
     "text": [
      "0.1435098648071289\n"
     ]
    }
   ],
   "source": [
    "X = pd.read_csv(mnist_path).values.astype(np.float32)\n",
    "pca = PCA(n_components=784, whiten=False, svd_solver='jacobi', tol=1e-7, iterated_power=15, random_state=None)\n",
    "start = time.time()\n",
    "transformed = pca.fit_transform(X)\n",
    "end = time.time()\n",
    "print(end - start)"
   ]
  },
  {
   "cell_type": "code",
   "execution_count": null,
   "id": "a0672b60-019c-45bd-a8b6-23d002f97187",
   "metadata": {},
   "outputs": [],
   "source": []
  },
  {
   "cell_type": "code",
   "execution_count": null,
   "id": "3ef980ee-eb31-4e2a-ab63-77ce5b5aac95",
   "metadata": {},
   "outputs": [],
   "source": []
  },
  {
   "cell_type": "code",
   "execution_count": null,
   "id": "067f9fee-3d09-45e5-a996-80cdce360fec",
   "metadata": {},
   "outputs": [],
   "source": []
  },
  {
   "cell_type": "code",
   "execution_count": null,
   "id": "f66688f5-91a2-47a3-b591-8e5a8a28eb28",
   "metadata": {},
   "outputs": [],
   "source": []
  },
  {
   "cell_type": "code",
   "execution_count": 48,
   "id": "93eb9461-938e-4186-aa6c-55a92c5e5313",
   "metadata": {},
   "outputs": [],
   "source": [
    "# components_ : array\n",
    "#     The top K components (VT.T[:,:n_components]) in U, S, VT = svd(X)\n",
    "# explained_variance_ : array\n",
    "#     How much each component explains the variance in the data given by S**2\n",
    "# explained_variance_ratio_ : array\n",
    "#     How much in % the variance is explained given by S**2/sum(S**2)\n",
    "# singular_values_ : array\n",
    "#     The top K singular values. Remember all singular values >= 0\n",
    "# mean_ : array\n",
    "#     The column wise mean of X. Used to mean - center the data first.\n",
    "# noise_variance_ : float\n",
    "#     From Bishop 1999's Textbook. Used in later tasks like calculating the\n",
    "#     estimated covariance of X."
   ]
  },
  {
   "cell_type": "code",
   "execution_count": null,
   "id": "eb737a50-0e0a-4db9-93db-b6bccf588e73",
   "metadata": {},
   "outputs": [],
   "source": []
  },
  {
   "cell_type": "code",
   "execution_count": null,
   "id": "f6869772-df40-4be9-a26c-0a11a878e826",
   "metadata": {},
   "outputs": [],
   "source": []
  },
  {
   "cell_type": "code",
   "execution_count": null,
   "id": "a0f894a1-17bb-41a4-9ff9-bf6b1d5b3381",
   "metadata": {},
   "outputs": [],
   "source": []
  },
  {
   "cell_type": "code",
   "execution_count": null,
   "id": "657c46e5-c669-47f5-95b0-125d902e016b",
   "metadata": {},
   "outputs": [],
   "source": []
  },
  {
   "cell_type": "code",
   "execution_count": null,
   "id": "67aa7466-d2d7-4d34-9b5e-0d6190217c9c",
   "metadata": {},
   "outputs": [],
   "source": []
  },
  {
   "cell_type": "code",
   "execution_count": null,
   "id": "e21d53a3-4c1e-4aca-ba66-d74c70c45f20",
   "metadata": {},
   "outputs": [],
   "source": []
  },
  {
   "cell_type": "code",
   "execution_count": null,
   "id": "a557c18d-0682-44f0-a279-9865d106b5e6",
   "metadata": {},
   "outputs": [],
   "source": []
  },
  {
   "cell_type": "code",
   "execution_count": 65,
   "id": "caf2ae92-a1a6-44ac-abc3-23b814bbd0ac",
   "metadata": {},
   "outputs": [
    {
     "data": {
      "text/plain": [
       "PCA()"
      ]
     },
     "execution_count": 65,
     "metadata": {},
     "output_type": "execute_result"
    }
   ],
   "source": [
    "z"
   ]
  },
  {
   "cell_type": "code",
   "execution_count": 40,
   "id": "1d7cac6f-f1e8-4aee-9d3a-621b80647f6d",
   "metadata": {},
   "outputs": [
    {
     "name": "stdout",
     "output_type": "stream",
     "text": [
      "components:           0         1         2\n",
      "0 -0.692258  0.510284  0.510284\n",
      "1  0.721650  0.489500  0.489500\n",
      "explained variance: 0    8.510402\n",
      "1    0.489597\n",
      "dtype: float32\n",
      "explained variance ratio: 0    0.9456\n",
      "1    0.0544\n",
      "dtype: float32\n",
      "singular values: 0    4.125628\n",
      "1    0.989542\n",
      "dtype: float32\n",
      "mean: 0    2.666667\n",
      "1    2.333333\n",
      "2    2.333333\n",
      "dtype: float32\n",
      "noise variance: 0    0.0\n",
      "dtype: float32\n",
      "Inverse:           0         1\n",
      "0  2.854709  0.428916\n",
      "1  0.121316 -0.807434\n",
      "2 -2.976024  0.378517\n",
      "Input:      0         1    2\n",
      "0  1.0  3.999999  4.0\n",
      "1  2.0  2.000000  2.0\n",
      "2  5.0  1.000001  1.0\n"
     ]
    }
   ],
   "source": [
    "# Both import methods supported\n",
    "from cuml import PCA\n",
    "from cuml.decomposition import PCA\n",
    "\n",
    "import cudf\n",
    "import numpy as np\n",
    "\n",
    "gdf_float = cudf.DataFrame()\n",
    "gdf_float['0'] = np.asarray([1.0,2.0,5.0], dtype = np.float32)\n",
    "gdf_float['1'] = np.asarray([4.0,2.0,1.0], dtype = np.float32)\n",
    "gdf_float['2'] = np.asarray([4.0,2.0,1.0], dtype = np.float32)\n",
    "\n",
    "pca_float = PCA(n_components = 2)\n",
    "pca_float.fit(gdf_float)\n",
    "\n",
    "print(f'components: {pca_float.components_}')\n",
    "print(f'explained variance: {pca_float.explained_variance_}')\n",
    "exp_var = pca_float.explained_variance_ratio_\n",
    "print(f'explained variance ratio: {exp_var}')\n",
    "\n",
    "print(f'singular values: {pca_float.singular_values_}')\n",
    "print(f'mean: {pca_float.mean_}')\n",
    "print(f'noise variance: {pca_float.noise_variance_}')\n",
    "\n",
    "trans_gdf_float = pca_float.transform(gdf_float)\n",
    "print(f'Inverse: {trans_gdf_float}')\n",
    "\n",
    "input_gdf_float = pca_float.inverse_transform(trans_gdf_float)\n",
    "print(f'Input: {input_gdf_float}')"
   ]
  }
 ],
 "metadata": {
  "kernelspec": {
   "display_name": "cuml_dev",
   "language": "python",
   "name": "cuml_dev"
  },
  "language_info": {
   "codemirror_mode": {
    "name": "ipython",
    "version": 3
   },
   "file_extension": ".py",
   "mimetype": "text/x-python",
   "name": "python",
   "nbconvert_exporter": "python",
   "pygments_lexer": "ipython3",
   "version": "3.8.8"
  }
 },
 "nbformat": 4,
 "nbformat_minor": 5
}
